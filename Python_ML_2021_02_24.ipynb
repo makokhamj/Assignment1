{
  "nbformat": 4,
  "nbformat_minor": 0,
  "metadata": {
    "colab": {
      "name": "Python ML - 2021-02-24.ipynb",
      "provenance": [],
      "include_colab_link": true
    },
    "kernelspec": {
      "name": "python3",
      "display_name": "Python 3"
    }
  },
  "cells": [
    {
      "cell_type": "markdown",
      "metadata": {
        "id": "view-in-github",
        "colab_type": "text"
      },
      "source": [
        "<a href=\"https://colab.research.google.com/github/makokhamj/Assignment1/blob/master/Python_ML_2021_02_24.ipynb\" target=\"_parent\"><img src=\"https://colab.research.google.com/assets/colab-badge.svg\" alt=\"Open In Colab\"/></a>"
      ]
    },
    {
      "cell_type": "code",
      "metadata": {
        "colab": {
          "base_uri": "https://localhost:8080/"
        },
        "id": "cv6p8Au17Mtq",
        "outputId": "e0f047fe-25e3-4aba-9c18-4f89f58dc977"
      },
      "source": [
        "print(\"Hello\")"
      ],
      "execution_count": null,
      "outputs": [
        {
          "output_type": "stream",
          "text": [
            "Hello\n"
          ],
          "name": "stdout"
        }
      ]
    },
    {
      "cell_type": "code",
      "metadata": {
        "id": "Bj9voFVh7WR8"
      },
      "source": [
        "import numpy\n",
        "dataset = numpy.loadtxt('https://raw.githubusercontent.com/jakelever/swc-machine-learning-short/gh-pages/data/dataset.tsv',skiprows=1)"
      ],
      "execution_count": null,
      "outputs": []
    },
    {
      "cell_type": "code",
      "metadata": {
        "colab": {
          "base_uri": "https://localhost:8080/"
        },
        "id": "6GsMkibO8E4f",
        "outputId": "6987c5ef-6530-4e66-e7a9-121633672569"
      },
      "source": [
        "print(type(dataset))"
      ],
      "execution_count": null,
      "outputs": [
        {
          "output_type": "stream",
          "text": [
            "<class 'numpy.ndarray'>\n"
          ],
          "name": "stdout"
        }
      ]
    },
    {
      "cell_type": "code",
      "metadata": {
        "colab": {
          "base_uri": "https://localhost:8080/"
        },
        "id": "7loOMNT78J3e",
        "outputId": "d96d9f78-7fd1-4704-da01-4a56846f9b7c"
      },
      "source": [
        "print(dataset.shape)"
      ],
      "execution_count": null,
      "outputs": [
        {
          "output_type": "stream",
          "text": [
            "(500, 10)\n"
          ],
          "name": "stdout"
        }
      ]
    },
    {
      "cell_type": "code",
      "metadata": {
        "colab": {
          "base_uri": "https://localhost:8080/"
        },
        "id": "mfoorZQ_8NSe",
        "outputId": "17b44a88-4378-40ba-b994-0a4272a25ec5"
      },
      "source": [
        "print(dataset[3,2])"
      ],
      "execution_count": null,
      "outputs": [
        {
          "output_type": "stream",
          "text": [
            "168.0\n"
          ],
          "name": "stdout"
        }
      ]
    },
    {
      "cell_type": "code",
      "metadata": {
        "colab": {
          "base_uri": "https://localhost:8080/"
        },
        "id": "rDXmNERz8ahS",
        "outputId": "2216a476-5e38-413f-bf59-32c66a679293"
      },
      "source": [
        "print(dataset[:5,:])"
      ],
      "execution_count": null,
      "outputs": [
        {
          "output_type": "stream",
          "text": [
            "[[ 40.     2.   165.    44.     5.66  10.2    2.14   3.47   9.71   0.  ]\n",
            " [ 45.     1.   162.    73.     6.57   6.44   1.61   2.43   9.19   1.  ]\n",
            " [ 50.     1.   192.    91.     6.52   8.37   4.19   3.76   9.07   1.  ]\n",
            " [ 25.     2.   168.    64.     5.67   8.04   3.51   2.86  13.82   0.  ]\n",
            " [ 38.     1.   156.    37.     5.14  11.31   4.54   5.8    4.23   0.  ]]\n"
          ],
          "name": "stdout"
        }
      ]
    },
    {
      "cell_type": "code",
      "metadata": {
        "id": "Ni2E4Agq8iZM"
      },
      "source": [
        "target = dataset[:,9]\n",
        "features = dataset[:,0:9]"
      ],
      "execution_count": null,
      "outputs": []
    },
    {
      "cell_type": "code",
      "metadata": {
        "colab": {
          "base_uri": "https://localhost:8080/"
        },
        "id": "cg2Pb0iN8xPF",
        "outputId": "12aaee77-55ff-4ac4-b7e0-38a3787d186b"
      },
      "source": [
        "print(target.shape)\n",
        "print(features.shape)"
      ],
      "execution_count": null,
      "outputs": [
        {
          "output_type": "stream",
          "text": [
            "(500,)\n",
            "(500, 9)\n"
          ],
          "name": "stdout"
        }
      ]
    },
    {
      "cell_type": "code",
      "metadata": {
        "colab": {
          "base_uri": "https://localhost:8080/"
        },
        "id": "Fi6Ggt7A80Ff",
        "outputId": "2aa1b4cd-ab2a-4f22-e940-fb7a5f4c884b"
      },
      "source": [
        "print(features[:,0].min())"
      ],
      "execution_count": null,
      "outputs": [
        {
          "output_type": "stream",
          "text": [
            "25.0\n"
          ],
          "name": "stdout"
        }
      ]
    },
    {
      "cell_type": "code",
      "metadata": {
        "colab": {
          "base_uri": "https://localhost:8080/"
        },
        "id": "MVaLs6_o9xXS",
        "outputId": "cfe0d8d6-a142-4c68-874c-fb3051b18e86"
      },
      "source": [
        "print(features.min(axis=0))"
      ],
      "execution_count": null,
      "outputs": [
        {
          "output_type": "stream",
          "text": [
            "[ 25.     1.   138.    31.     2.46   1.88   0.08   0.96   0.61]\n"
          ],
          "name": "stdout"
        }
      ]
    },
    {
      "cell_type": "code",
      "metadata": {
        "id": "tAr-TO0M94Yv"
      },
      "source": [
        "numpy.set_printoptions(suppress=True)"
      ],
      "execution_count": null,
      "outputs": []
    },
    {
      "cell_type": "code",
      "metadata": {
        "colab": {
          "base_uri": "https://localhost:8080/"
        },
        "id": "VNS1Esb--p_E",
        "outputId": "e1695f2c-9055-46d9-8bae-5d925f2e0c7d"
      },
      "source": [
        "print(features.min(axis=0), features.max(axis=0), features.mean(axis=0))"
      ],
      "execution_count": null,
      "outputs": [
        {
          "output_type": "stream",
          "text": [
            "[ 25.     1.   138.    31.     2.46   1.88   0.08   0.96   0.61] [ 64.     2.   207.   115.     9.7   13.93   6.71   6.92  18.52] [ 43.458     1.498   169.232    65.998     5.61906   8.19288   3.38444\n",
            "   4.0199    9.07966]\n"
          ],
          "name": "stdout"
        }
      ]
    },
    {
      "cell_type": "code",
      "metadata": {
        "colab": {
          "base_uri": "https://localhost:8080/"
        },
        "id": "y6E7buyf-6Ze",
        "outputId": "eadc42a7-e2c2-42f1-a01e-06c4bfe998c0"
      },
      "source": [
        "pos_count = target.sum()\n",
        "N = target.shape[0]\n",
        "class_balance = 100 * pos_count / N\n",
        "print(pos_count, N)\n",
        "print(class_balance)"
      ],
      "execution_count": null,
      "outputs": [
        {
          "output_type": "stream",
          "text": [
            "155.0 500\n",
            "31.0\n"
          ],
          "name": "stdout"
        }
      ]
    },
    {
      "cell_type": "code",
      "metadata": {
        "colab": {
          "base_uri": "https://localhost:8080/"
        },
        "id": "AeyZEuIY_sKn",
        "outputId": "24def9da-62c7-4f79-9d41-44978a45c997"
      },
      "source": [
        "from sklearn.model_selection import train_test_split\n",
        "features_train, features_test, target_train, target_test = train_test_split(features, target, test_size=0.2, random_state=0)\n",
        "features_train, features_validation, target_train, target_validation = train_test_split(features_train, target_train, test_size=0.2, random_state=0)\n",
        "\n",
        "print(features_train.shape)\n",
        "print(features_validation.shape)\n",
        "print(features_test.shape)\n",
        "\n",
        "print(target_train.shape)\n",
        "print(target_validation.shape)\n",
        "print(target_test.shape)\n",
        "\n",
        "N_train = target_train.shape[0]\n",
        "N_validation = target_validation.shape[0]\n",
        "N_test = target_test.shape[0]"
      ],
      "execution_count": null,
      "outputs": [
        {
          "output_type": "stream",
          "text": [
            "(320, 9)\n",
            "(80, 9)\n",
            "(100, 9)\n",
            "(320,)\n",
            "(80,)\n",
            "(100,)\n"
          ],
          "name": "stdout"
        }
      ]
    },
    {
      "cell_type": "code",
      "metadata": {
        "colab": {
          "base_uri": "https://localhost:8080/"
        },
        "id": "Wi6WFq44BZit",
        "outputId": "8ee53726-26c1-41f8-b550-00bcc40f933e"
      },
      "source": [
        "pred_train = []\n",
        "for i in range(N_train):\n",
        "  if features_train[i,3] > 75:\n",
        "    pred_train.append(True)\n",
        "  else:\n",
        "    pred_train.append(False)\n",
        "\n",
        "print(sum(pred_train),len(pred_train))"
      ],
      "execution_count": null,
      "outputs": [
        {
          "output_type": "stream",
          "text": [
            "68 320\n"
          ],
          "name": "stdout"
        }
      ]
    },
    {
      "cell_type": "code",
      "metadata": {
        "colab": {
          "base_uri": "https://localhost:8080/"
        },
        "id": "EFFOzw2aEDBb",
        "outputId": "70abd1c6-969e-422b-9423-dde91e0de6d7"
      },
      "source": [
        "matching = 0\n",
        "for i in range(N_train):\n",
        "  if pred_train[i] == target_train[i]:\n",
        "    matching += 1\n",
        "\n",
        "train_accuracy = matching / N_train\n",
        "print(train_accuracy)"
      ],
      "execution_count": null,
      "outputs": [
        {
          "output_type": "stream",
          "text": [
            "0.8625\n"
          ],
          "name": "stdout"
        }
      ]
    },
    {
      "cell_type": "code",
      "metadata": {
        "colab": {
          "base_uri": "https://localhost:8080/"
        },
        "id": "5sTs5-PyEgUv",
        "outputId": "95d8b1bf-86f2-43b2-9c19-eaf14dcc4bce"
      },
      "source": [
        "def calcAccuracy(target, pred):\n",
        "  matching = 0\n",
        "  for i in range(len(pred)):\n",
        "    if pred[i] == target[i]:\n",
        "      matching += 1\n",
        "  accuracy = matching / len(pred)\n",
        "  return accuracy\n",
        "\n",
        "print(calcAccuracy(target_train,pred_train))"
      ],
      "execution_count": null,
      "outputs": [
        {
          "output_type": "stream",
          "text": [
            "0.8625\n"
          ],
          "name": "stdout"
        }
      ]
    },
    {
      "cell_type": "code",
      "metadata": {
        "colab": {
          "base_uri": "https://localhost:8080/"
        },
        "id": "5Ruz6EtDIIzs",
        "outputId": "6bb56327-8c74-472e-8836-2ca69b725f8e"
      },
      "source": [
        "pred_validation = []\n",
        "for i in range(N_validation):\n",
        "  if features_validation[i,3] > 75:\n",
        "    pred_validation.append(True)\n",
        "  else:\n",
        "    pred_validation.append(False)\n",
        "\n",
        "print(calcAccuracy(target_validation,pred_validation))"
      ],
      "execution_count": null,
      "outputs": [
        {
          "output_type": "stream",
          "text": [
            "0.8375\n"
          ],
          "name": "stdout"
        }
      ]
    },
    {
      "cell_type": "code",
      "metadata": {
        "id": "MU30B9snIsWa"
      },
      "source": [
        "from sklearn.neighbors import KNeighborsClassifier\n",
        "clf = KNeighborsClassifier(3)"
      ],
      "execution_count": null,
      "outputs": []
    },
    {
      "cell_type": "code",
      "metadata": {
        "colab": {
          "base_uri": "https://localhost:8080/"
        },
        "id": "v7fMZbh6Juz6",
        "outputId": "f01d4387-94c4-4d42-f9d8-a96d19c61d45"
      },
      "source": [
        "clf.fit(features_train,target_train)"
      ],
      "execution_count": null,
      "outputs": [
        {
          "output_type": "execute_result",
          "data": {
            "text/plain": [
              "KNeighborsClassifier(algorithm='auto', leaf_size=30, metric='minkowski',\n",
              "                     metric_params=None, n_jobs=None, n_neighbors=3, p=2,\n",
              "                     weights='uniform')"
            ]
          },
          "metadata": {
            "tags": []
          },
          "execution_count": 63
        }
      ]
    },
    {
      "cell_type": "code",
      "metadata": {
        "colab": {
          "base_uri": "https://localhost:8080/"
        },
        "id": "dX5w_4zRJzND",
        "outputId": "30762e53-3d37-4ea7-8703-28df689070e9"
      },
      "source": [
        "pred_train = clf.predict(features_train)\n",
        "print(calcAccuracy(target_train,pred_train))"
      ],
      "execution_count": null,
      "outputs": [
        {
          "output_type": "stream",
          "text": [
            "0.9375\n"
          ],
          "name": "stdout"
        }
      ]
    },
    {
      "cell_type": "code",
      "metadata": {
        "colab": {
          "base_uri": "https://localhost:8080/"
        },
        "id": "Ka3_WeNXKFHd",
        "outputId": "090d3e4a-cae4-44b6-d074-5b51781d700e"
      },
      "source": [
        "pred_validation = clf.predict(features_validation)\n",
        "print(calcAccuracy(target_validation,pred_validation))"
      ],
      "execution_count": null,
      "outputs": [
        {
          "output_type": "stream",
          "text": [
            "0.85\n"
          ],
          "name": "stdout"
        }
      ]
    },
    {
      "cell_type": "code",
      "metadata": {
        "colab": {
          "base_uri": "https://localhost:8080/"
        },
        "id": "ek2LNQ-mKc7V",
        "outputId": "a6514150-e43c-4fe7-bacc-e6bf7abbdd20"
      },
      "source": [
        "pred_validation = []\n",
        "for i in range(N_validation):\n",
        "  pred_validation.append(False)\n",
        "\n",
        "print(calcAccuracy(target_validation,pred_validation))"
      ],
      "execution_count": null,
      "outputs": [
        {
          "output_type": "stream",
          "text": [
            "0.7\n"
          ],
          "name": "stdout"
        }
      ]
    },
    {
      "cell_type": "code",
      "metadata": {
        "colab": {
          "base_uri": "https://localhost:8080/"
        },
        "id": "imK7QWuaLSDO",
        "outputId": "893545aa-fde9-4566-90ab-907d0f11575a"
      },
      "source": [
        "from sklearn.ensemble import RandomForestClassifier\n",
        "clf = RandomForestClassifier(10, random_state=0)\n",
        "\n",
        "clf.fit(features_train, target_train)\n",
        "\n",
        "pred_validation = clf.predict(features_validation)\n",
        "print(calcAccuracy(target_validation, pred_validation))"
      ],
      "execution_count": null,
      "outputs": [
        {
          "output_type": "stream",
          "text": [
            "0.9\n"
          ],
          "name": "stdout"
        }
      ]
    },
    {
      "cell_type": "code",
      "metadata": {
        "colab": {
          "base_uri": "https://localhost:8080/"
        },
        "id": "ZEX2c-0XPPvm",
        "outputId": "011461f5-42df-45a4-de82-1ec1809773ed"
      },
      "source": [
        "true_positives = 0\n",
        "\n",
        "for i in range(N_validation):\n",
        "  if target_validation[i] == True and pred_validation[i] == True:\n",
        "    true_positives += 1\n",
        "\n",
        "print(true_positives)"
      ],
      "execution_count": null,
      "outputs": [
        {
          "output_type": "stream",
          "text": [
            "18\n"
          ],
          "name": "stdout"
        }
      ]
    },
    {
      "cell_type": "code",
      "metadata": {
        "colab": {
          "base_uri": "https://localhost:8080/"
        },
        "id": "UBEvyWX4P5Kk",
        "outputId": "fd3cfa63-5868-44cf-946c-7997966a2d9f"
      },
      "source": [
        "true_positives = 0\n",
        "true_negatives = 0\n",
        "false_positives = 0\n",
        "false_negatives = 0\n",
        "\n",
        "for i in range(N_validation):\n",
        "  if target_validation[i] == True and pred_validation[i] == True:\n",
        "    true_positives += 1\n",
        "  if target_validation[i] == False and pred_validation[i] == False:\n",
        "    true_negatives += 1\n",
        "  if target_validation[i] == False and pred_validation[i] == True:\n",
        "    false_positives += 1\n",
        "  if target_validation[i] == True and pred_validation[i] == False:\n",
        "    false_negatives += 1\n",
        "\n",
        "print(true_positives,true_negatives,false_positives,false_negatives)"
      ],
      "execution_count": null,
      "outputs": [
        {
          "output_type": "stream",
          "text": [
            "18 54 2 6\n"
          ],
          "name": "stdout"
        }
      ]
    },
    {
      "cell_type": "code",
      "metadata": {
        "colab": {
          "base_uri": "https://localhost:8080/"
        },
        "id": "n5nLieEaQQog",
        "outputId": "00626a21-541e-4b78-e640-51307dcb8605"
      },
      "source": [
        "accuracy = (true_positives + true_negatives) / (true_positives + true_negatives + false_positives + false_negatives)\n",
        "print(accuracy)"
      ],
      "execution_count": null,
      "outputs": [
        {
          "output_type": "stream",
          "text": [
            "0.9\n"
          ],
          "name": "stdout"
        }
      ]
    },
    {
      "cell_type": "code",
      "metadata": {
        "colab": {
          "base_uri": "https://localhost:8080/"
        },
        "id": "iVq1jeSjQbVX",
        "outputId": "82ef13c3-2999-4432-90d4-f9b68ca97457"
      },
      "source": [
        "precision = true_positives / (true_positives + false_positives)\n",
        "print(precision)"
      ],
      "execution_count": null,
      "outputs": [
        {
          "output_type": "stream",
          "text": [
            "0.9\n"
          ],
          "name": "stdout"
        }
      ]
    },
    {
      "cell_type": "code",
      "metadata": {
        "colab": {
          "base_uri": "https://localhost:8080/"
        },
        "id": "UKRIKZqeQk9S",
        "outputId": "21ce1032-d17c-417e-a952-2fcb68c58d6f"
      },
      "source": [
        "recall = true_positives / (true_positives + false_negatives)\n",
        "print(recall)"
      ],
      "execution_count": null,
      "outputs": [
        {
          "output_type": "stream",
          "text": [
            "0.75\n"
          ],
          "name": "stdout"
        }
      ]
    },
    {
      "cell_type": "code",
      "metadata": {
        "colab": {
          "base_uri": "https://localhost:8080/"
        },
        "id": "rgFEsNoaQujL",
        "outputId": "2c9da84d-72f7-4ac3-fe16-38ddb5cc41f0"
      },
      "source": [
        "f1score = 2 * (precision * recall) / (precision + recall)\n",
        "print(f1score)"
      ],
      "execution_count": null,
      "outputs": [
        {
          "output_type": "stream",
          "text": [
            "0.8181818181818182\n"
          ],
          "name": "stdout"
        }
      ]
    },
    {
      "cell_type": "code",
      "metadata": {
        "id": "kxjuP0miQ9XS"
      },
      "source": [
        "from sklearn.metrics import confusion_matrix, accuracy_score, f1_score, recall_score, precision_score\n",
        "\n",
        "pred_test = clf.predict(features_test)"
      ],
      "execution_count": null,
      "outputs": []
    },
    {
      "cell_type": "code",
      "metadata": {
        "colab": {
          "base_uri": "https://localhost:8080/"
        },
        "id": "mBC0DWqlRxZS",
        "outputId": "bb72e93b-ec42-4ac8-fe37-2518c05e964a"
      },
      "source": [
        "print(confusion_matrix(target_test,pred_test))"
      ],
      "execution_count": null,
      "outputs": [
        {
          "output_type": "stream",
          "text": [
            "[[62  3]\n",
            " [ 5 30]]\n"
          ],
          "name": "stdout"
        }
      ]
    },
    {
      "cell_type": "code",
      "metadata": {
        "colab": {
          "base_uri": "https://localhost:8080/"
        },
        "id": "fyZ7BqHMR1Zx",
        "outputId": "942a91a1-8256-4932-81d2-90accf2461f9"
      },
      "source": [
        "print(\"accuracy_score:\", accuracy_score(target_test,pred_test))\n",
        "print(\"f1_score:\", f1_score(target_test,pred_test))\n",
        "print(\"recall_score:\", recall_score(target_test,pred_test))\n",
        "print(\"precision_score:\", precision_score(target_test,pred_test))"
      ],
      "execution_count": null,
      "outputs": [
        {
          "output_type": "stream",
          "text": [
            "accuracy_score: 0.92\n",
            "f1_score: 0.8823529411764706\n",
            "recall_score: 0.8571428571428571\n",
            "precision_score: 0.9090909090909091\n"
          ],
          "name": "stdout"
        }
      ]
    },
    {
      "cell_type": "code",
      "metadata": {
        "id": "OeYcjULRSCRI"
      },
      "source": [
        "import pickle\n",
        "\n",
        "with open('saved_classifier.pickle','wb') as f:\n",
        "  pickle.dump(clf,f)"
      ],
      "execution_count": null,
      "outputs": []
    },
    {
      "cell_type": "code",
      "metadata": {
        "id": "GoXI_iaNXTym"
      },
      "source": [
        "with open('saved_classifier.pickle','rb') as f:\n",
        "  clf = pickle.load(f)"
      ],
      "execution_count": null,
      "outputs": []
    },
    {
      "cell_type": "code",
      "metadata": {
        "id": "r_UP_GyIXYla"
      },
      "source": [
        ""
      ],
      "execution_count": null,
      "outputs": []
    }
  ]
}